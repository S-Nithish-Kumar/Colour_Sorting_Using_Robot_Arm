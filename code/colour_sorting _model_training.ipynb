{
 "cells": [
  {
   "cell_type": "markdown",
   "metadata": {},
   "source": [
    "# Importing the required libraries"
   ]
  },
  {
   "cell_type": "code",
   "execution_count": 3,
   "metadata": {},
   "outputs": [
    {
     "name": "stderr",
     "output_type": "stream",
     "text": [
      "Using TensorFlow backend.\n"
     ]
    }
   ],
   "source": [
    "import numpy as np\n",
    "import pandas as pd\n",
    "import seaborn as sns\n",
    "import matplotlib.pyplot as plt\n",
    "import os\n",
    "import keras\n",
    "from matplotlib.image import imread\n",
    "%matplotlib inline"
   ]
  },
  {
   "cell_type": "code",
   "execution_count": 5,
   "metadata": {},
   "outputs": [],
   "source": [
    "import tensorflow as tf"
   ]
  },
  {
   "cell_type": "code",
   "execution_count": 6,
   "metadata": {},
   "outputs": [
    {
     "data": {
      "text/plain": [
       "'2.1.0'"
      ]
     },
     "execution_count": 6,
     "metadata": {},
     "output_type": "execute_result"
    }
   ],
   "source": [
    "tf .__version__"
   ]
  },
  {
   "cell_type": "markdown",
   "metadata": {},
   "source": [
    "# Preprocessing and image augmentation"
   ]
  },
  {
   "cell_type": "code",
   "execution_count": 7,
   "metadata": {},
   "outputs": [],
   "source": [
    "# define the directory of the dataset\n",
    "directory = \"D:\\\\DL dataset\\\\Dataset for color sorting\""
   ]
  },
  {
   "cell_type": "code",
   "execution_count": 8,
   "metadata": {},
   "outputs": [],
   "source": [
    "# define the directory of training and test image folders\n",
    "test_path = directory + '\\\\test'\n",
    "train_path = directory + '\\\\train'"
   ]
  },
  {
   "cell_type": "code",
   "execution_count": 6,
   "metadata": {},
   "outputs": [
    {
     "data": {
      "text/plain": [
       "['test', 'train']"
      ]
     },
     "execution_count": 6,
     "metadata": {},
     "output_type": "execute_result"
    }
   ],
   "source": [
    "os.listdir(directory)"
   ]
  },
  {
   "cell_type": "code",
   "execution_count": 7,
   "metadata": {},
   "outputs": [
    {
     "data": {
      "text/plain": [
       "['Background-samples', 'Green-samples', 'Orange-samples']"
      ]
     },
     "execution_count": 7,
     "metadata": {},
     "output_type": "execute_result"
    }
   ],
   "source": [
    "os.listdir(directory + \"\\\\train\")"
   ]
  },
  {
   "cell_type": "code",
   "execution_count": 8,
   "metadata": {},
   "outputs": [
    {
     "data": {
      "text/plain": [
       "['1.jpg',\n",
       " '10.jpg',\n",
       " '100.jpg',\n",
       " '11.jpg',\n",
       " '12.jpg',\n",
       " '13.jpg',\n",
       " '14.jpg',\n",
       " '15.jpg',\n",
       " '16.jpg',\n",
       " '17.jpg',\n",
       " '18.jpg',\n",
       " '19.jpg',\n",
       " '2.jpg',\n",
       " '20.jpg',\n",
       " '21.jpg',\n",
       " '22.jpg',\n",
       " '23.jpg',\n",
       " '24.jpg',\n",
       " '25.jpg',\n",
       " '26.jpg',\n",
       " '27.jpg',\n",
       " '28.jpg',\n",
       " '29.jpg',\n",
       " '3.jpg',\n",
       " '30.jpg',\n",
       " '31.jpg',\n",
       " '32.jpg',\n",
       " '33.jpg',\n",
       " '34.jpg',\n",
       " '35.jpg',\n",
       " '36.jpg',\n",
       " '37.jpg',\n",
       " '38.jpg',\n",
       " '39.jpg',\n",
       " '4.jpg',\n",
       " '40.jpg',\n",
       " '41.jpg',\n",
       " '42.jpg',\n",
       " '43.jpg',\n",
       " '44.jpg',\n",
       " '45.jpg',\n",
       " '46.jpg',\n",
       " '47.jpg',\n",
       " '48.jpg',\n",
       " '49.jpg',\n",
       " '5.jpg',\n",
       " '50.jpg',\n",
       " '51.jpg',\n",
       " '52.jpg',\n",
       " '53.jpg',\n",
       " '54.jpg',\n",
       " '55.jpg',\n",
       " '56.jpg',\n",
       " '57.jpg',\n",
       " '58.jpg',\n",
       " '59.jpg',\n",
       " '6.jpg',\n",
       " '60.jpg',\n",
       " '61.jpg',\n",
       " '62.jpg',\n",
       " '63.jpg',\n",
       " '64.jpg',\n",
       " '65.jpg',\n",
       " '66.jpg',\n",
       " '67.jpg',\n",
       " '68.jpg',\n",
       " '69.jpg',\n",
       " '7.jpg',\n",
       " '70.jpg',\n",
       " '71.jpg',\n",
       " '72.jpg',\n",
       " '73.jpg',\n",
       " '74.jpg',\n",
       " '75.jpg',\n",
       " '76.jpg',\n",
       " '77.jpg',\n",
       " '78.jpg',\n",
       " '79.jpg',\n",
       " '8.jpg',\n",
       " '80.jpg',\n",
       " '81.jpg',\n",
       " '82.jpg',\n",
       " '83.jpg',\n",
       " '84.jpg',\n",
       " '85.jpg',\n",
       " '86.jpg',\n",
       " '87.jpg',\n",
       " '88.jpg',\n",
       " '89.jpg',\n",
       " '9.jpg',\n",
       " '90.jpg',\n",
       " '91.jpg',\n",
       " '92.jpg',\n",
       " '93.jpg',\n",
       " '94.jpg',\n",
       " '95.jpg',\n",
       " '96.jpg',\n",
       " '97.jpg',\n",
       " '98.jpg',\n",
       " '99.jpg']"
      ]
     },
     "execution_count": 8,
     "metadata": {},
     "output_type": "execute_result"
    }
   ],
   "source": [
    "os.listdir(directory+ \"\\\\test\"+ \"\\\\Green_test_samples\")"
   ]
  },
  {
   "cell_type": "code",
   "execution_count": 9,
   "metadata": {},
   "outputs": [],
   "source": [
    "green_image_sample = directory+ \"\\\\train\"+ \"\\\\Green-samples\"+\"\\\\12.jpg\""
   ]
  },
  {
   "cell_type": "code",
   "execution_count": 10,
   "metadata": {},
   "outputs": [],
   "source": [
    "green_img_sample = imread(green_image_sample)"
   ]
  },
  {
   "cell_type": "code",
   "execution_count": 11,
   "metadata": {},
   "outputs": [
    {
     "data": {
      "text/plain": [
       "<matplotlib.image.AxesImage at 0x264701e9248>"
      ]
     },
     "execution_count": 11,
     "metadata": {},
     "output_type": "execute_result"
    },
    {
     "data": {
      "image/png": "[encoded data removed]",
      "text/plain": [
       "<Figure size 640x480 with 1 Axes>"
      ]
     },
     "metadata": {},
     "output_type": "display_data"
    }
   ],
   "source": [
    "plt.imshow(green_img_sample)"
   ]
  },
  {
   "cell_type": "code",
   "execution_count": 12,
   "metadata": {},
   "outputs": [
    {
     "data": {
      "text/plain": [
       "(224, 224, 3)"
      ]
     },
     "execution_count": 12,
     "metadata": {},
     "output_type": "execute_result"
    }
   ],
   "source": [
    "green_img_sample.shape"
   ]
  },
  {
   "cell_type": "code",
   "execution_count": 21,
   "metadata": {},
   "outputs": [],
   "source": [
    "image_shape = (224, 224, 3)"
   ]
  },
  {
   "cell_type": "code",
   "execution_count": 18,
   "metadata": {},
   "outputs": [],
   "source": [
    "from tensorflow.keras.preprocessing.image import ImageDataGenerator"
   ]
  },
  {
   "cell_type": "code",
   "execution_count": 19,
   "metadata": {},
   "outputs": [],
   "source": [
    "# add arguments needed for ImageDataGenerator. Fill mode is set to nearest and the remaining parameters are set to False or zero.\n",
    "# The image is normalized using the rescale value of 1/255\n",
    "img_gen = ImageDataGenerator(\n",
    "    featurewise_center=False,\n",
    "    samplewise_center=False,\n",
    "    featurewise_std_normalization=False,\n",
    "    samplewise_std_normalization=False,\n",
    "    zca_whitening=False,\n",
    "    zca_epsilon=0,\n",
    "    rotation_range=0,\n",
    "    width_shift_range=0.0,\n",
    "    height_shift_range=0.0,\n",
    "    brightness_range=None,\n",
    "    shear_range=0.0,\n",
    "    zoom_range=0.0,\n",
    "    channel_shift_range=0.0,\n",
    "    fill_mode='nearest',\n",
    "    cval=0.0,\n",
    "    horizontal_flip=False,\n",
    "    vertical_flip=False,\n",
    "    rescale=1/255,\n",
    "    preprocessing_function=None,\n",
    "    data_format=None,\n",
    "    validation_split=0.0,\n",
    "    dtype=None\n",
    ")"
   ]
  },
  {
   "cell_type": "markdown",
   "metadata": {},
   "source": [
    "# Training the model"
   ]
  },
  {
   "cell_type": "code",
   "execution_count": 11,
   "metadata": {},
   "outputs": [],
   "source": [
    "from tensorflow.keras.models import Sequential"
   ]
  },
  {
   "cell_type": "code",
   "execution_count": 12,
   "metadata": {},
   "outputs": [],
   "source": [
    "from tensorflow.keras.layers import Dense,Conv2D,MaxPool2D,Activation,Flatten,Dropout"
   ]
  },
  {
   "cell_type": "code",
   "execution_count": 13,
   "metadata": {},
   "outputs": [],
   "source": [
    "def create_model():\n",
    "    model = tf.keras.Sequential([\n",
    "    Conv2D(filters=32,kernel_size=(5,5),input_shape=(224,224,3),activation='relu'),\n",
    "    MaxPool2D(pool_size=(2,2)),\n",
    "    Conv2D(filters=64,kernel_size=(4,4),activation='relu'),\n",
    "    MaxPool2D(pool_size=(2,2)),\n",
    "    Conv2D(filters=128,kernel_size=(3,3),activation='relu'),\n",
    "    MaxPool2D(pool_size=(2,2)),\n",
    "    Conv2D(filters=256,kernel_size=(3,3),activation='relu'),\n",
    "    MaxPool2D(pool_size=(2,2)),\n",
    "    Flatten(),\n",
    "    Dense(256,activation='relu'),\n",
    "    Dropout(0.2),\n",
    "    Dense(128,activation='relu'),\n",
    "    Dropout(0.2),\n",
    "    Dense(3,activation='softmax')])\n",
    "    \n",
    "    model.compile(optimizer='adam',loss='categorical_crossentropy',metrics=['accuracy'])\n",
    "    return model"
   ]
  },
  {
   "cell_type": "code",
   "execution_count": 14,
   "metadata": {},
   "outputs": [
    {
     "name": "stdout",
     "output_type": "stream",
     "text": [
      "Model: \"sequential\"\n",
      "_________________________________________________________________\n",
      "Layer (type)                 Output Shape              Param #   \n",
      "=================================================================\n",
      "conv2d (Conv2D)              (None, 220, 220, 32)      2432      \n",
      "_________________________________________________________________\n",
      "max_pooling2d (MaxPooling2D) (None, 110, 110, 32)      0         \n",
      "_________________________________________________________________\n",
      "conv2d_1 (Conv2D)            (None, 107, 107, 64)      32832     \n",
      "_________________________________________________________________\n",
      "max_pooling2d_1 (MaxPooling2 (None, 53, 53, 64)        0         \n",
      "_________________________________________________________________\n",
      "conv2d_2 (Conv2D)            (None, 51, 51, 128)       73856     \n",
      "_________________________________________________________________\n",
      "max_pooling2d_2 (MaxPooling2 (None, 25, 25, 128)       0         \n",
      "_________________________________________________________________\n",
      "conv2d_3 (Conv2D)            (None, 23, 23, 256)       295168    \n",
      "_________________________________________________________________\n",
      "max_pooling2d_3 (MaxPooling2 (None, 11, 11, 256)       0         \n",
      "_________________________________________________________________\n",
      "flatten (Flatten)            (None, 30976)             0         \n",
      "_________________________________________________________________\n",
      "dense (Dense)                (None, 256)               7930112   \n",
      "_________________________________________________________________\n",
      "dropout (Dropout)            (None, 256)               0         \n",
      "_________________________________________________________________\n",
      "dense_1 (Dense)              (None, 128)               32896     \n",
      "_________________________________________________________________\n",
      "dropout_1 (Dropout)          (None, 128)               0         \n",
      "_________________________________________________________________\n",
      "dense_2 (Dense)              (None, 3)                 387       \n",
      "=================================================================\n",
      "Total params: 8,367,683\n",
      "Trainable params: 8,367,683\n",
      "Non-trainable params: 0\n",
      "_________________________________________________________________\n"
     ]
    }
   ],
   "source": [
    "model = create_model()\n",
    "model.summary()"
   ]
  },
  {
   "cell_type": "code",
   "execution_count": 385,
   "metadata": {},
   "outputs": [],
   "source": []
  },
  {
   "cell_type": "code",
   "execution_count": 386,
   "metadata": {},
   "outputs": [
    {
     "name": "stdout",
     "output_type": "stream",
     "text": [
      "Found 900 images belonging to 3 classes.\n"
     ]
    }
   ],
   "source": [
    "# Generating training images using ImageDataGenerator\n",
    "train_image_gen = img_gen.flow_from_directory(train_path,\n",
    "                                               target_size=image_shape[:2],\n",
    "                                                color_mode='rgb',\n",
    "                                               batch_size=8,\n",
    "                                               class_mode='categorical')"
   ]
  },
  {
   "cell_type": "code",
   "execution_count": 22,
   "metadata": {},
   "outputs": [
    {
     "name": "stdout",
     "output_type": "stream",
     "text": [
      "Found 300 images belonging to 3 classes.\n"
     ]
    }
   ],
   "source": [
    "# Generating validation images using ImageDataGenerator\n",
    "val_image_gen = img_gen.flow_from_directory(test_path,\n",
    "                                               target_size=image_shape[:2],\n",
    "                                               color_mode='rgb',\n",
    "                                               batch_size=8,\n",
    "                                               class_mode='categorical',shuffle=False)"
   ]
  },
  {
   "cell_type": "code",
   "execution_count": 388,
   "metadata": {},
   "outputs": [],
   "source": [
    "# To save the weights after every epoch\n",
    "\n",
    "checkpoint_path = \"weights/cp-{epoch:04d}.ckpt\"\n",
    "checkpoint_dir = os.path.dirname(checkpoint_path)\n",
    "\n",
    "batch_size = 8\n",
    "\n",
    "# creating a callback\n",
    "cp_callback = tf.keras.callbacks.ModelCheckpoint(filepath=checkpoint_path, save_weights_only=True, monitor='val_accuracy',verbose=1, save_freq = 'epoch')\n",
    "\n",
    "model.save_weights(checkpoint_path.format(epoch=1))"
   ]
  },
  {
   "cell_type": "code",
   "execution_count": 389,
   "metadata": {},
   "outputs": [
    {
     "name": "stdout",
     "output_type": "stream",
     "text": [
      "WARNING:tensorflow:sample_weight modes were coerced from\n",
      "  ...\n",
      "    to  \n",
      "  ['...']\n",
      "WARNING:tensorflow:sample_weight modes were coerced from\n",
      "  ...\n",
      "    to  \n",
      "  ['...']\n",
      "Train for 113 steps, validate for 38 steps\n",
      "Epoch 1/10\n",
      "112/113 [============================>.] - ETA: 0s - loss: 0.4729 - accuracy: 0.7982\n",
      "Epoch 00001: saving model to weights/cp-0001.ckpt\n",
      "113/113 [==============================] - 61s 536ms/step - loss: 0.4757 - accuracy: 0.7978 - val_loss: 0.3445 - val_accuracy: 0.8600\n",
      "Epoch 2/10\n",
      "112/113 [============================>.] - ETA: 0s - loss: 0.2928 - accuracy: 0.9238\n",
      "Epoch 00002: saving model to weights/cp-0002.ckpt\n",
      "113/113 [==============================] - 60s 535ms/step - loss: 0.2903 - accuracy: 0.9244 - val_loss: 0.5454 - val_accuracy: 0.8000\n",
      "Epoch 3/10\n",
      "112/113 [============================>.] - ETA: 0s - loss: 0.0467 - accuracy: 0.9832\n",
      "Epoch 00003: saving model to weights/cp-0003.ckpt\n",
      "113/113 [==============================] - 60s 534ms/step - loss: 0.0463 - accuracy: 0.9833 - val_loss: 0.1488 - val_accuracy: 0.9600\n",
      "Epoch 4/10\n",
      "112/113 [============================>.] - ETA: 0s - loss: 4.6240e-05 - accuracy: 1.0000\n",
      "Epoch 00004: saving model to weights/cp-0004.ckpt\n",
      "113/113 [==============================] - 63s 562ms/step - loss: 4.5930e-05 - accuracy: 1.0000 - val_loss: 0.2848 - val_accuracy: 0.9533\n",
      "Epoch 5/10\n",
      "112/113 [============================>.] - ETA: 0s - loss: 3.5520e-05 - accuracy: 1.0000\n",
      "Epoch 00005: saving model to weights/cp-0005.ckpt\n",
      "113/113 [==============================] - 63s 555ms/step - loss: 3.5212e-05 - accuracy: 1.0000 - val_loss: 0.2477 - val_accuracy: 0.9567\n",
      "Epoch 6/10\n",
      "112/113 [============================>.] - ETA: 0s - loss: 9.9136e-06 - accuracy: 1.0000\n",
      "Epoch 00006: saving model to weights/cp-0006.ckpt\n",
      "113/113 [==============================] - 60s 531ms/step - loss: 9.8772e-06 - accuracy: 1.0000 - val_loss: 0.2635 - val_accuracy: 0.9567\n",
      "Epoch 7/10\n",
      "112/113 [============================>.] - ETA: 0s - loss: 6.3789e-06 - accuracy: 1.0000\n",
      "Epoch 00007: saving model to weights/cp-0007.ckpt\n",
      "113/113 [==============================] - 63s 560ms/step - loss: 6.3280e-06 - accuracy: 1.0000 - val_loss: 0.2770 - val_accuracy: 0.9567\n",
      "Epoch 8/10\n",
      "112/113 [============================>.] - ETA: 0s - loss: 1.4414e-05 - accuracy: 1.0000\n",
      "Epoch 00008: saving model to weights/cp-0008.ckpt\n",
      "113/113 [==============================] - 63s 554ms/step - loss: 1.4288e-05 - accuracy: 1.0000 - val_loss: 0.2350 - val_accuracy: 0.9600\n",
      "Epoch 9/10\n",
      "112/113 [============================>.] - ETA: 0s - loss: 4.5314e-06 - accuracy: 1.0000\n",
      "Epoch 00009: saving model to weights/cp-0009.ckpt\n",
      "113/113 [==============================] - 62s 548ms/step - loss: 4.4967e-06 - accuracy: 1.0000 - val_loss: 0.2682 - val_accuracy: 0.9567\n",
      "Epoch 10/10\n",
      "112/113 [============================>.] - ETA: 0s - loss: 2.4275e-05 - accuracy: 1.0000\n",
      "Epoch 00010: saving model to weights/cp-0010.ckpt\n",
      "113/113 [==============================] - 63s 553ms/step - loss: 2.4077e-05 - accuracy: 1.0000 - val_loss: 0.1767 - val_accuracy: 0.9600\n"
     ]
    },
    {
     "data": {
      "text/plain": [
       "<tensorflow.python.keras.callbacks.History at 0x2642bd5cc88>"
      ]
     },
     "execution_count": 389,
     "metadata": {},
     "output_type": "execute_result"
    }
   ],
   "source": [
    "model.fit(train_image_gen,epochs=10,validation_data=val_image_gen, callbacks=[cp_callback], verbose=1)"
   ]
  },
  {
   "cell_type": "code",
   "execution_count": 422,
   "metadata": {},
   "outputs": [
    {
     "data": {
      "text/plain": [
       "['checkpoint',\n",
       " 'cp-0001.ckpt.data-00000-of-00001',\n",
       " 'cp-0001.ckpt.index',\n",
       " 'cp-0002.ckpt.data-00000-of-00001',\n",
       " 'cp-0002.ckpt.index',\n",
       " 'cp-0003.ckpt.data-00000-of-00001',\n",
       " 'cp-0003.ckpt.index',\n",
       " 'cp-0004.ckpt.data-00000-of-00001',\n",
       " 'cp-0004.ckpt.index',\n",
       " 'cp-0005.ckpt.data-00000-of-00001',\n",
       " 'cp-0005.ckpt.index',\n",
       " 'cp-0006.ckpt.data-00000-of-00001',\n",
       " 'cp-0006.ckpt.index',\n",
       " 'cp-0007.ckpt.data-00000-of-00001',\n",
       " 'cp-0007.ckpt.index',\n",
       " 'cp-0008.ckpt.data-00000-of-00001',\n",
       " 'cp-0008.ckpt.index',\n",
       " 'cp-0009.ckpt.data-00000-of-00001',\n",
       " 'cp-0009.ckpt.index',\n",
       " 'cp-0010.ckpt.data-00000-of-00001',\n",
       " 'cp-0010.ckpt.index']"
      ]
     },
     "execution_count": 422,
     "metadata": {},
     "output_type": "execute_result"
    }
   ],
   "source": [
    "os.listdir(checkpoint_dir)"
   ]
  },
  {
   "cell_type": "code",
   "execution_count": null,
   "metadata": {},
   "outputs": [],
   "source": []
  },
  {
   "cell_type": "code",
   "execution_count": 395,
   "metadata": {},
   "outputs": [],
   "source": [
    "losses = pd.DataFrame(model.history.history)"
   ]
  },
  {
   "cell_type": "code",
   "execution_count": 396,
   "metadata": {},
   "outputs": [
    {
     "data": {
      "text/html": [
       "<div>\n",
       "<style scoped>\n",
       "    .dataframe tbody tr th:only-of-type {\n",
       "        vertical-align: middle;\n",
       "    }\n",
       "\n",
       "    .dataframe tbody tr th {\n",
       "        vertical-align: top;\n",
       "    }\n",
       "\n",
       "    .dataframe thead th {\n",
       "        text-align: right;\n",
       "    }\n",
       "</style>\n",
       "<table border=\"1\" class=\"dataframe\">\n",
       "  <thead>\n",
       "    <tr style=\"text-align: right;\">\n",
       "      <th></th>\n",
       "      <th>loss</th>\n",
       "      <th>accuracy</th>\n",
       "      <th>val_loss</th>\n",
       "      <th>val_accuracy</th>\n",
       "    </tr>\n",
       "  </thead>\n",
       "  <tbody>\n",
       "    <tr>\n",
       "      <th>0</th>\n",
       "      <td>0.473220</td>\n",
       "      <td>0.797778</td>\n",
       "      <td>0.344455</td>\n",
       "      <td>0.860000</td>\n",
       "    </tr>\n",
       "    <tr>\n",
       "      <th>1</th>\n",
       "      <td>0.291565</td>\n",
       "      <td>0.924444</td>\n",
       "      <td>0.545433</td>\n",
       "      <td>0.800000</td>\n",
       "    </tr>\n",
       "    <tr>\n",
       "      <th>2</th>\n",
       "      <td>0.046514</td>\n",
       "      <td>0.983333</td>\n",
       "      <td>0.148768</td>\n",
       "      <td>0.960000</td>\n",
       "    </tr>\n",
       "    <tr>\n",
       "      <th>3</th>\n",
       "      <td>0.000043</td>\n",
       "      <td>1.000000</td>\n",
       "      <td>0.284770</td>\n",
       "      <td>0.953333</td>\n",
       "    </tr>\n",
       "    <tr>\n",
       "      <th>4</th>\n",
       "      <td>0.000035</td>\n",
       "      <td>1.000000</td>\n",
       "      <td>0.247736</td>\n",
       "      <td>0.956667</td>\n",
       "    </tr>\n",
       "    <tr>\n",
       "      <th>5</th>\n",
       "      <td>0.000010</td>\n",
       "      <td>1.000000</td>\n",
       "      <td>0.263458</td>\n",
       "      <td>0.956667</td>\n",
       "    </tr>\n",
       "    <tr>\n",
       "      <th>6</th>\n",
       "      <td>0.000006</td>\n",
       "      <td>1.000000</td>\n",
       "      <td>0.276984</td>\n",
       "      <td>0.956667</td>\n",
       "    </tr>\n",
       "    <tr>\n",
       "      <th>7</th>\n",
       "      <td>0.000014</td>\n",
       "      <td>1.000000</td>\n",
       "      <td>0.235003</td>\n",
       "      <td>0.960000</td>\n",
       "    </tr>\n",
       "    <tr>\n",
       "      <th>8</th>\n",
       "      <td>0.000005</td>\n",
       "      <td>1.000000</td>\n",
       "      <td>0.268191</td>\n",
       "      <td>0.956667</td>\n",
       "    </tr>\n",
       "    <tr>\n",
       "      <th>9</th>\n",
       "      <td>0.000024</td>\n",
       "      <td>1.000000</td>\n",
       "      <td>0.176709</td>\n",
       "      <td>0.960000</td>\n",
       "    </tr>\n",
       "  </tbody>\n",
       "</table>\n",
       "</div>"
      ],
      "text/plain": [
       "       loss  accuracy  val_loss  val_accuracy\n",
       "0  0.473220  0.797778  0.344455      0.860000\n",
       "1  0.291565  0.924444  0.545433      0.800000\n",
       "2  0.046514  0.983333  0.148768      0.960000\n",
       "3  0.000043  1.000000  0.284770      0.953333\n",
       "4  0.000035  1.000000  0.247736      0.956667\n",
       "5  0.000010  1.000000  0.263458      0.956667\n",
       "6  0.000006  1.000000  0.276984      0.956667\n",
       "7  0.000014  1.000000  0.235003      0.960000\n",
       "8  0.000005  1.000000  0.268191      0.956667\n",
       "9  0.000024  1.000000  0.176709      0.960000"
      ]
     },
     "execution_count": 396,
     "metadata": {},
     "output_type": "execute_result"
    }
   ],
   "source": [
    "losses"
   ]
  },
  {
   "cell_type": "code",
   "execution_count": null,
   "metadata": {},
   "outputs": [],
   "source": []
  },
  {
   "cell_type": "code",
   "execution_count": 398,
   "metadata": {},
   "outputs": [
    {
     "data": {
      "text/plain": [
       "<matplotlib.legend.Legend at 0x2641798b048>"
      ]
     },
     "execution_count": 398,
     "metadata": {},
     "output_type": "execute_result"
    },
    {
     "data": {
      "image/png": "[encoded data removed]",
      "text/plain": [
       "<Figure size 640x480 with 1 Axes>"
      ]
     },
     "metadata": {},
     "output_type": "display_data"
    }
   ],
   "source": [
    "plt.plot(losses[['loss','val_loss']])\n",
    "plt.legend(['Training loss','validation loss'])"
   ]
  },
  {
   "cell_type": "code",
   "execution_count": 399,
   "metadata": {},
   "outputs": [
    {
     "data": {
      "text/plain": [
       "<matplotlib.legend.Legend at 0x2643ea139c8>"
      ]
     },
     "execution_count": 399,
     "metadata": {},
     "output_type": "execute_result"
    },
    {
     "data": {
      "image/png": "[encoded data removed]",
      "text/plain": [
       "<Figure size 640x480 with 1 Axes>"
      ]
     },
     "metadata": {},
     "output_type": "display_data"
    }
   ],
   "source": [
    "plt.plot(losses[['accuracy','val_accuracy']])\n",
    "plt.legend(['Training accuracy','validation accuracy'])"
   ]
  },
  {
   "cell_type": "markdown",
   "metadata": {},
   "source": [
    "# Loading the best weights and evaluating the test images generated with ImageDataGenerator"
   ]
  },
  {
   "cell_type": "code",
   "execution_count": 23,
   "metadata": {},
   "outputs": [
    {
     "data": {
      "text/plain": [
       "<tensorflow.python.training.tracking.util.CheckpointLoadStatus at 0x25b7c949c88>"
      ]
     },
     "execution_count": 23,
     "metadata": {},
     "output_type": "execute_result"
    }
   ],
   "source": [
    "model.load_weights('weights/cp-0003.ckpt')"
   ]
  },
  {
   "cell_type": "code",
   "execution_count": 25,
   "metadata": {},
   "outputs": [
    {
     "name": "stdout",
     "output_type": "stream",
     "text": [
      "WARNING:tensorflow:From C:\\Users\\Nithish\\AppData\\Local\\Temp\\ipykernel_2568\\2890523457.py:1: Model.evaluate_generator (from tensorflow.python.keras.engine.training) is deprecated and will be removed in a future version.\n",
      "Instructions for updating:\n",
      "Please use Model.evaluate, which supports generators.\n",
      "WARNING:tensorflow:sample_weight modes were coerced from\n",
      "  ...\n",
      "    to  \n",
      "  ['...']\n"
     ]
    },
    {
     "data": {
      "text/plain": [
       "[0.14876761910444872, 0.96]"
      ]
     },
     "execution_count": 25,
     "metadata": {},
     "output_type": "execute_result"
    }
   ],
   "source": [
    "model.evaluate_generator(val_image_gen)"
   ]
  },
  {
   "cell_type": "code",
   "execution_count": 28,
   "metadata": {},
   "outputs": [],
   "source": [
    "predictions = model.predict(val_image_gen)"
   ]
  },
  {
   "cell_type": "code",
   "execution_count": 29,
   "metadata": {},
   "outputs": [
    {
     "data": {
      "text/plain": [
       "array([[9.99756038e-01, 1.98034380e-04, 4.59212570e-05],\n",
       "       [9.99833703e-01, 1.38180229e-04, 2.81479424e-05],\n",
       "       [9.99985933e-01, 1.21365038e-05, 1.87915680e-06],\n",
       "       [9.99840617e-01, 1.43870930e-04, 1.54963727e-05],\n",
       "       [9.99819934e-01, 1.59907780e-04, 2.01298717e-05],\n",
       "       [9.99832511e-01, 1.37130090e-04, 3.03061133e-05],\n",
       "       [9.99816000e-01, 1.65346064e-04, 1.87145470e-05],\n",
       "       [9.99863148e-01, 1.13301379e-04, 2.34735780e-05],\n",
       "       [9.99823511e-01, 1.56741895e-04, 1.98126800e-05],\n",
       "       [9.99799907e-01, 1.77918380e-04, 2.21843293e-05],\n",
       "       [9.99821961e-01, 1.59682721e-04, 1.83637840e-05],\n",
       "       [9.99804080e-01, 1.74381887e-04, 2.15781929e-05],\n",
       "       [9.99756515e-01, 1.97668807e-04, 4.58020513e-05],\n",
       "       [9.99817073e-01, 1.65821562e-04, 1.71984957e-05],\n",
       "       [9.99985456e-01, 1.25806791e-05, 1.94195263e-06],\n",
       "       [9.99855518e-01, 1.19443095e-04, 2.50128869e-05],\n",
       "       [9.99807656e-01, 1.83446784e-04, 8.98219150e-06],\n",
       "       [9.99834418e-01, 1.35531445e-04, 3.00272550e-05],\n",
       "       [9.99785841e-01, 2.05439515e-04, 8.69481300e-06],\n",
       "       [9.99786079e-01, 2.01818693e-04, 1.21476478e-05],\n",
       "       [9.99789774e-01, 2.02107956e-04, 8.11580412e-06],\n",
       "       [9.99784291e-01, 2.06834564e-04, 8.90526917e-06],\n",
       "       [9.99858022e-01, 1.29833250e-04, 1.21617722e-05],\n",
       "       [9.99755561e-01, 1.98536902e-04, 4.59268813e-05],\n",
       "       [9.99836683e-01, 1.37355266e-04, 2.59614899e-05],\n",
       "       [9.99841928e-01, 1.32765097e-04, 2.52740047e-05],\n",
       "       [9.99842048e-01, 1.32563437e-04, 2.53367798e-05],\n",
       "       [9.99885798e-01, 9.54972420e-05, 1.87731821e-05],\n",
       "       [9.99651313e-01, 2.86807626e-04, 6.18863996e-05],\n",
       "       [9.99827325e-01, 1.41290991e-04, 3.14646495e-05],\n",
       "       [9.99767601e-01, 1.89102939e-04, 4.32350753e-05],\n",
       "       [9.99768794e-01, 1.88148872e-04, 4.30137879e-05],\n",
       "       [9.99767482e-01, 1.89278653e-04, 4.32537163e-05],\n",
       "       [9.99764383e-01, 1.91738756e-04, 4.38088318e-05],\n",
       "       [9.99876618e-01, 1.02884434e-04, 2.04734552e-05],\n",
       "       [9.99774635e-01, 1.83686512e-04, 4.17625015e-05],\n",
       "       [9.99771893e-01, 1.85982979e-04, 4.21603618e-05],\n",
       "       [9.99780715e-01, 1.78888833e-04, 4.03731428e-05],\n",
       "       [9.99780715e-01, 1.78888833e-04, 4.03731428e-05],\n",
       "       [9.99783337e-01, 1.77029578e-04, 3.97166659e-05],\n",
       "       [9.99747932e-01, 2.04551994e-04, 4.75933630e-05],\n",
       "       [9.99745786e-01, 2.10544560e-04, 4.35836555e-05],\n",
       "       [9.99781668e-01, 1.78405156e-04, 3.99366290e-05],\n",
       "       [9.99664187e-01, 2.77006562e-04, 5.88195871e-05],\n",
       "       [9.99787390e-01, 1.73839493e-04, 3.87223809e-05],\n",
       "       [9.99874234e-01, 1.04735351e-04, 2.10243215e-05],\n",
       "       [9.99779761e-01, 1.80119838e-04, 4.02137121e-05],\n",
       "       [9.99786675e-01, 1.74548375e-04, 3.87208747e-05],\n",
       "       [9.99780118e-01, 1.79852825e-04, 4.00537792e-05],\n",
       "       [9.99786675e-01, 1.74640285e-04, 3.87689834e-05],\n",
       "       [9.99779403e-01, 1.80522868e-04, 4.00877216e-05],\n",
       "       [9.99788582e-01, 1.73139502e-04, 3.82164762e-05],\n",
       "       [9.99783695e-01, 1.77271053e-04, 3.91023859e-05],\n",
       "       [9.99983430e-01, 1.45055646e-05, 2.03567288e-06],\n",
       "       [9.99790728e-01, 1.71660169e-04, 3.76457792e-05],\n",
       "       [9.99784648e-01, 1.76582806e-04, 3.87795153e-05],\n",
       "       [9.99872804e-01, 1.05800544e-04, 2.13643198e-05],\n",
       "       [9.99652028e-01, 2.86003138e-04, 6.19606217e-05],\n",
       "       [9.99793112e-01, 1.69820603e-04, 3.70475245e-05],\n",
       "       [9.99786198e-01, 1.75588444e-04, 3.82906255e-05],\n",
       "       [9.99779999e-01, 1.80634743e-04, 3.93691807e-05],\n",
       "       [9.99901533e-01, 8.27958938e-05, 1.56496681e-05],\n",
       "       [9.99788463e-01, 1.73893233e-04, 3.76163371e-05],\n",
       "       [9.99789536e-01, 1.73168068e-04, 3.73223629e-05],\n",
       "       [9.99794900e-01, 1.69047562e-04, 3.60600570e-05],\n",
       "       [9.99984264e-01, 1.38654423e-05, 1.93364326e-06],\n",
       "       [9.99787867e-01, 1.74857472e-04, 3.73330549e-05],\n",
       "       [9.99863267e-01, 1.13495080e-04, 2.32574603e-05],\n",
       "       [9.99792993e-01, 1.70765925e-04, 3.62375977e-05],\n",
       "       [9.99808609e-01, 1.58304741e-04, 3.31708980e-05],\n",
       "       [9.99800026e-01, 1.65253252e-04, 3.47417881e-05],\n",
       "       [9.99661088e-01, 2.78809777e-04, 6.01206229e-05],\n",
       "       [9.99818146e-01, 1.50772757e-04, 3.11007861e-05],\n",
       "       [9.99811947e-01, 1.55911621e-04, 3.21992266e-05],\n",
       "       [9.99832034e-01, 1.39560492e-04, 2.83469453e-05],\n",
       "       [9.99836564e-01, 1.46510502e-04, 1.68969418e-05],\n",
       "       [9.99830961e-01, 1.48709485e-04, 2.02470583e-05],\n",
       "       [9.99995947e-01, 3.55231214e-06, 4.70803968e-07],\n",
       "       [9.99832988e-01, 1.38738003e-04, 2.82174278e-05],\n",
       "       [9.99661088e-01, 2.78809777e-04, 6.01206229e-05],\n",
       "       [9.99829173e-01, 1.53433575e-04, 1.74185880e-05],\n",
       "       [9.99830127e-01, 1.54496331e-04, 1.54024165e-05],\n",
       "       [9.99808133e-01, 1.66753656e-04, 2.51257861e-05],\n",
       "       [9.99788702e-01, 1.83977143e-04, 2.73124533e-05],\n",
       "       [9.99817789e-01, 1.59933217e-04, 2.22770359e-05],\n",
       "       [9.99663472e-01, 2.76843435e-04, 5.97502622e-05],\n",
       "       [9.99815166e-01, 1.64607409e-04, 2.02418723e-05],\n",
       "       [9.99803245e-01, 1.74935893e-04, 2.17932356e-05],\n",
       "       [9.99782026e-01, 2.07600460e-04, 1.03781122e-05],\n",
       "       [9.99986529e-01, 1.17191830e-05, 1.80162419e-06],\n",
       "       [9.99659300e-01, 2.80020118e-04, 6.06772846e-05],\n",
       "       [9.99766052e-01, 2.23301744e-04, 1.06442130e-05],\n",
       "       [9.99827504e-01, 1.53922374e-04, 1.86002453e-05],\n",
       "       [9.99931693e-01, 5.79317311e-05, 1.04216424e-05],\n",
       "       [9.99972343e-01, 2.37070453e-05, 3.93225446e-06],\n",
       "       [9.99983788e-01, 1.40002885e-05, 2.23351230e-06],\n",
       "       [9.99985576e-01, 1.24254466e-05, 1.97508666e-06],\n",
       "       [9.99985814e-01, 1.22420997e-05, 1.94094241e-06],\n",
       "       [9.99982595e-01, 1.49730313e-05, 2.39868882e-06],\n",
       "       [9.99986410e-01, 1.18086527e-05, 1.83415716e-06],\n",
       "       [4.56619106e-04, 9.99536037e-01, 7.37612390e-06],\n",
       "       [4.60519264e-13, 1.00000000e+00, 4.78356070e-12],\n",
       "       [3.79307566e-12, 1.00000000e+00, 5.87317806e-10],\n",
       "       [7.47422415e-13, 1.00000000e+00, 7.24511336e-12],\n",
       "       [2.67589661e-13, 1.00000000e+00, 3.51546309e-12],\n",
       "       [1.05010553e-12, 1.00000000e+00, 1.41761828e-11],\n",
       "       [1.37895099e-12, 1.00000000e+00, 2.03495588e-11],\n",
       "       [1.55032823e-12, 1.00000000e+00, 2.33921979e-11],\n",
       "       [6.10571186e-12, 1.00000000e+00, 8.75405998e-11],\n",
       "       [4.32800453e-12, 1.00000000e+00, 6.31666455e-11],\n",
       "       [1.12865984e-11, 1.00000000e+00, 1.66656050e-10],\n",
       "       [1.08071980e-11, 1.00000000e+00, 1.58753677e-10],\n",
       "       [3.49211064e-07, 9.99999642e-01, 1.51304302e-08],\n",
       "       [2.07147624e-12, 1.00000000e+00, 3.94403364e-11],\n",
       "       [4.46850619e-13, 1.00000000e+00, 1.18876003e-11],\n",
       "       [2.13267238e-04, 9.99783814e-01, 2.95431346e-06],\n",
       "       [2.56543368e-04, 9.99738276e-01, 5.09525444e-06],\n",
       "       [3.34238721e-05, 9.99952197e-01, 1.43890757e-05],\n",
       "       [4.46169870e-03, 9.95538175e-01, 1.35544113e-07],\n",
       "       [8.83564510e-09, 1.00000000e+00, 6.85296797e-09],\n",
       "       [8.49390810e-04, 9.99150515e-01, 1.03549624e-07],\n",
       "       [7.70625426e-03, 9.92292285e-01, 1.42634644e-06],\n",
       "       [2.41360888e-02, 9.75859821e-01, 4.01484522e-06],\n",
       "       [1.45654226e-07, 9.99999762e-01, 5.97665064e-08],\n",
       "       [2.02019088e-04, 9.99794424e-01, 3.59360865e-06],\n",
       "       [1.06511950e-04, 9.99890924e-01, 2.44810349e-06],\n",
       "       [6.91539026e-05, 9.99929309e-01, 1.53114604e-06],\n",
       "       [8.77667591e-03, 9.91220295e-01, 3.08714539e-06],\n",
       "       [5.13731688e-03, 9.94860232e-01, 2.33984974e-06],\n",
       "       [1.06404556e-08, 1.00000000e+00, 7.29536387e-09],\n",
       "       [8.09585582e-03, 9.91901338e-01, 2.87897478e-06],\n",
       "       [3.44645092e-03, 9.96551633e-01, 1.88982608e-06],\n",
       "       [1.88708145e-05, 9.99980330e-01, 8.37807818e-07],\n",
       "       [1.57739386e-08, 1.00000000e+00, 9.77371517e-09],\n",
       "       [2.36329731e-15, 1.00000000e+00, 2.49994903e-13],\n",
       "       [9.96682327e-04, 9.99003351e-01, 5.34202087e-08],\n",
       "       [4.88844775e-02, 9.51114893e-01, 5.92631125e-07],\n",
       "       [5.64811230e-02, 9.43518102e-01, 7.85120790e-07],\n",
       "       [5.64811230e-02, 9.43518102e-01, 7.85120790e-07],\n",
       "       [9.33855176e-02, 9.06613290e-01, 1.23065945e-06],\n",
       "       [9.26277786e-02, 9.07371044e-01, 1.15932266e-06],\n",
       "       [6.68772628e-08, 9.99999881e-01, 2.48813379e-08],\n",
       "       [3.26837925e-03, 9.96731520e-01, 1.36845969e-07],\n",
       "       [4.46169870e-03, 9.95538175e-01, 1.35544113e-07],\n",
       "       [9.46345506e-04, 9.99053657e-01, 1.02692777e-09],\n",
       "       [9.53373487e-16, 1.00000000e+00, 6.81678767e-14],\n",
       "       [8.51644261e-04, 9.99148369e-01, 1.08882181e-09],\n",
       "       [1.26905623e-03, 9.98730958e-01, 1.35644906e-09],\n",
       "       [1.11176237e-03, 9.98888195e-01, 9.42482647e-10],\n",
       "       [7.82195595e-04, 9.99217749e-01, 7.08504977e-10],\n",
       "       [1.05108612e-03, 9.98948991e-01, 6.99439007e-10],\n",
       "       [1.06770033e-03, 9.98932302e-01, 6.47550902e-10],\n",
       "       [4.43712693e-08, 1.00000000e+00, 1.92607430e-10],\n",
       "       [7.95055612e-08, 9.99999881e-01, 3.24542313e-08],\n",
       "       [2.70620184e-08, 1.00000000e+00, 1.49463331e-10],\n",
       "       [9.27756716e-09, 1.00000000e+00, 8.82886403e-11],\n",
       "       [1.47596613e-15, 1.00000000e+00, 9.31317943e-14],\n",
       "       [3.40664608e-09, 1.00000000e+00, 4.35159755e-11],\n",
       "       [2.20382956e-09, 1.00000000e+00, 2.34195181e-11],\n",
       "       [1.57726365e-09, 1.00000000e+00, 1.64895111e-11],\n",
       "       [1.53229496e-09, 1.00000000e+00, 1.55786998e-11],\n",
       "       [1.78897586e-09, 1.00000000e+00, 1.70247913e-11],\n",
       "       [1.18365251e-09, 1.00000000e+00, 1.20515186e-11],\n",
       "       [1.10982401e-09, 1.00000000e+00, 1.09348190e-11],\n",
       "       [1.18470056e-09, 1.00000000e+00, 1.10499864e-11],\n",
       "       [8.69937594e-07, 9.99999166e-01, 1.89885565e-08],\n",
       "       [2.05363104e-09, 1.00000000e+00, 1.67666020e-11],\n",
       "       [1.36271984e-15, 1.00000000e+00, 8.99900068e-14],\n",
       "       [1.11987131e-09, 1.00000000e+00, 1.34251195e-11],\n",
       "       [1.41115319e-09, 1.00000000e+00, 1.50330685e-11],\n",
       "       [9.80756587e-10, 1.00000000e+00, 1.02854088e-11],\n",
       "       [1.43152323e-09, 1.00000000e+00, 1.23542895e-11],\n",
       "       [1.11412102e-09, 1.00000000e+00, 9.45000415e-12],\n",
       "       [1.24904220e-09, 1.00000000e+00, 1.04514661e-11],\n",
       "       [9.97910976e-10, 1.00000000e+00, 9.21487539e-12],\n",
       "       [9.79672232e-10, 1.00000000e+00, 8.45869035e-12],\n",
       "       [9.99966383e-01, 2.84708112e-05, 5.07899358e-06],\n",
       "       [5.06677395e-07, 9.99999523e-01, 1.36251090e-08],\n",
       "       [9.16976269e-16, 1.00000000e+00, 6.77742774e-14],\n",
       "       [6.18068043e-06, 9.99984026e-01, 9.82940583e-06],\n",
       "       [1.77338717e-11, 1.00000000e+00, 6.02744077e-10],\n",
       "       [5.06592245e-14, 1.00000000e+00, 8.34696721e-12],\n",
       "       [7.87695918e-15, 1.00000000e+00, 1.72821349e-12],\n",
       "       [3.22749771e-15, 1.00000000e+00, 8.10314164e-13],\n",
       "       [4.77300863e-15, 1.00000000e+00, 1.01508884e-12],\n",
       "       [4.77300863e-15, 1.00000000e+00, 1.01508884e-12],\n",
       "       [2.98312616e-15, 1.00000000e+00, 6.48708301e-13],\n",
       "       [2.06100206e-11, 1.00000000e+00, 1.57866020e-09],\n",
       "       [1.59375929e-10, 1.00000000e+00, 1.77894570e-08],\n",
       "       [1.23436200e-11, 1.00000000e+00, 9.79894152e-11],\n",
       "       [4.65384488e-07, 9.99999523e-01, 1.33165940e-08],\n",
       "       [3.43969957e-11, 1.00000000e+00, 1.19789121e-08],\n",
       "       [2.49937467e-11, 1.00000000e+00, 1.68398611e-08],\n",
       "       [1.07448740e-12, 1.00000000e+00, 1.92948013e-09],\n",
       "       [5.29876837e-12, 1.00000000e+00, 4.04486711e-09],\n",
       "       [4.46323811e-11, 1.00000000e+00, 1.79756530e-08],\n",
       "       [2.27881727e-10, 9.99999881e-01, 1.25680401e-07],\n",
       "       [2.83794845e-11, 1.00000000e+00, 9.36469924e-09],\n",
       "       [1.51106870e-11, 1.00000000e+00, 3.79021747e-09],\n",
       "       [9.48943354e-12, 1.00000000e+00, 2.48673793e-09],\n",
       "       [4.06075543e-07, 4.94938357e-09, 9.99999642e-01],\n",
       "       [3.04598118e-11, 3.00981569e-08, 1.00000000e+00],\n",
       "       [7.03153608e-04, 1.13501744e-06, 9.99295712e-01],\n",
       "       [1.35135462e-11, 1.42101788e-08, 1.00000000e+00],\n",
       "       [1.36178985e-11, 2.51301149e-08, 1.00000000e+00],\n",
       "       [9.26770119e-12, 8.07601719e-09, 1.00000000e+00],\n",
       "       [2.41682557e-07, 3.81604224e-08, 9.99999762e-01],\n",
       "       [6.28437059e-12, 6.35303987e-09, 1.00000000e+00],\n",
       "       [3.07138646e-12, 3.76006914e-09, 1.00000000e+00],\n",
       "       [4.89650464e-12, 4.32165947e-09, 1.00000000e+00],\n",
       "       [3.81531482e-12, 2.40046627e-09, 1.00000000e+00],\n",
       "       [3.34835436e-12, 1.89501015e-09, 1.00000000e+00],\n",
       "       [3.21843629e-07, 3.50708218e-09, 9.99999642e-01],\n",
       "       [1.09360914e-11, 1.30499949e-08, 1.00000000e+00],\n",
       "       [4.73510675e-11, 2.36556517e-08, 1.00000000e+00],\n",
       "       [3.18438221e-19, 4.50003772e-22, 1.00000000e+00],\n",
       "       [4.22298450e-19, 6.24775515e-22, 1.00000000e+00],\n",
       "       [3.65980624e-09, 7.22506568e-11, 1.00000000e+00],\n",
       "       [6.51978453e-08, 8.26556246e-09, 9.99999881e-01],\n",
       "       [1.89885725e-08, 4.88483975e-10, 1.00000000e+00],\n",
       "       [1.43934386e-07, 1.99862367e-08, 9.99999881e-01],\n",
       "       [4.80004907e-08, 6.54270327e-09, 1.00000000e+00],\n",
       "       [1.11289019e-07, 1.91348715e-08, 9.99999881e-01],\n",
       "       [1.66422467e-07, 2.11168771e-08, 9.99999762e-01],\n",
       "       [1.11289232e-07, 1.91349088e-08, 9.99999881e-01],\n",
       "       [4.31316316e-08, 6.92748259e-09, 1.00000000e+00],\n",
       "       [3.09098631e-08, 5.12471221e-09, 1.00000000e+00],\n",
       "       [2.75731438e-08, 4.22225677e-09, 1.00000000e+00],\n",
       "       [1.41146813e-07, 1.34067846e-09, 9.99999881e-01],\n",
       "       [9.69044400e-09, 1.33312050e-09, 1.00000000e+00],\n",
       "       [1.40884922e-08, 1.65560865e-09, 1.00000000e+00],\n",
       "       [1.87274800e-08, 3.08501225e-09, 1.00000000e+00],\n",
       "       [4.42870363e-09, 5.15387177e-10, 1.00000000e+00],\n",
       "       [1.41533183e-12, 2.39111749e-31, 1.00000000e+00],\n",
       "       [6.58096687e-04, 7.58520343e-07, 9.99341071e-01],\n",
       "       [3.64754234e-12, 1.46611853e-29, 1.00000000e+00],\n",
       "       [3.64754234e-12, 1.46611853e-29, 1.00000000e+00],\n",
       "       [3.05232467e-12, 1.34617658e-29, 1.00000000e+00],\n",
       "       [4.38325851e-12, 3.56448293e-30, 1.00000000e+00],\n",
       "       [4.38325851e-12, 3.56448293e-30, 1.00000000e+00],\n",
       "       [1.12641672e-07, 1.06961628e-09, 9.99999881e-01],\n",
       "       [6.78571262e-12, 2.58719288e-29, 1.00000000e+00],\n",
       "       [1.65781572e-11, 1.58322841e-28, 1.00000000e+00],\n",
       "       [1.88082796e-11, 4.52189525e-28, 1.00000000e+00],\n",
       "       [1.82246024e-11, 2.26155477e-28, 1.00000000e+00],\n",
       "       [5.87284507e-04, 6.80590688e-07, 9.99412060e-01],\n",
       "       [1.05271361e-10, 4.76451813e-28, 1.00000000e+00],\n",
       "       [2.43292811e-06, 9.64751295e-19, 9.99997616e-01],\n",
       "       [2.12665825e-07, 2.21097829e-09, 9.99999762e-01],\n",
       "       [1.36607763e-14, 3.26421050e-22, 1.00000000e+00],\n",
       "       [1.87417771e-15, 1.75860698e-22, 1.00000000e+00],\n",
       "       [3.14291025e-15, 2.02253980e-21, 1.00000000e+00],\n",
       "       [2.12665825e-07, 2.21097829e-09, 9.99999762e-01],\n",
       "       [1.33874013e-15, 6.83596534e-18, 1.00000000e+00],\n",
       "       [3.19464405e-16, 2.23096848e-17, 1.00000000e+00],\n",
       "       [3.67335346e-16, 3.37381561e-17, 1.00000000e+00],\n",
       "       [2.26923177e-04, 3.03560455e-07, 9.99772727e-01],\n",
       "       [1.19200745e-03, 3.86194733e-06, 9.98804092e-01],\n",
       "       [1.49038385e-07, 1.41323775e-09, 9.99999881e-01],\n",
       "       [1.37545355e-02, 1.18890806e-04, 9.86126602e-01],\n",
       "       [9.23960328e-01, 3.19026373e-02, 4.41370867e-02],\n",
       "       [9.30219233e-01, 3.91682349e-02, 3.06124892e-02],\n",
       "       [7.27474168e-02, 5.69616168e-05, 9.27195668e-01],\n",
       "       [3.22000057e-01, 7.82274525e-04, 6.77217603e-01],\n",
       "       [5.93744963e-02, 1.23354257e-04, 9.40502167e-01],\n",
       "       [1.41101992e-07, 1.28161182e-09, 9.99999881e-01],\n",
       "       [9.46976840e-02, 1.94495515e-04, 9.05107796e-01],\n",
       "       [1.82179399e-04, 1.81723109e-07, 9.99817669e-01],\n",
       "       [9.46850002e-01, 4.80047986e-03, 4.83494923e-02],\n",
       "       [8.59442353e-01, 4.99096047e-03, 1.35566667e-01],\n",
       "       [9.84360754e-01, 2.33656354e-03, 1.33027099e-02],\n",
       "       [9.75098193e-01, 6.31425623e-03, 1.85876004e-02],\n",
       "       [9.65787172e-01, 5.84654091e-03, 2.83662267e-02],\n",
       "       [7.87082851e-01, 6.39859587e-03, 2.06518501e-01],\n",
       "       [3.10845138e-07, 6.99763414e-10, 9.99999642e-01],\n",
       "       [3.84654925e-07, 6.08554374e-10, 9.99999642e-01],\n",
       "       [1.66968952e-04, 1.06684467e-06, 9.99831915e-01],\n",
       "       [1.54458249e-07, 1.91435969e-08, 9.99999881e-01],\n",
       "       [4.88067395e-04, 4.93310722e-07, 9.99511480e-01],\n",
       "       [1.16397981e-02, 9.20210077e-05, 9.88268197e-01],\n",
       "       [8.04708339e-03, 7.71777704e-05, 9.91875768e-01],\n",
       "       [4.29610116e-03, 4.17129049e-05, 9.95662153e-01],\n",
       "       [5.28778834e-03, 4.79454866e-05, 9.94664311e-01],\n",
       "       [4.49527754e-03, 4.85797427e-05, 9.95456100e-01],\n",
       "       [6.01355080e-03, 4.85721248e-05, 9.93937850e-01],\n",
       "       [3.56890168e-03, 3.02671724e-05, 9.96400833e-01],\n",
       "       [3.28702014e-03, 1.82076783e-05, 9.96694803e-01],\n",
       "       [2.90795269e-05, 1.15077746e-07, 9.99970794e-01],\n",
       "       [8.41823021e-06, 1.84940365e-08, 9.99991536e-01],\n",
       "       [2.97753870e-11, 5.27301935e-08, 1.00000000e+00],\n",
       "       [1.60059130e-07, 1.96924805e-08, 9.99999762e-01],\n",
       "       [5.13895714e-07, 1.88729643e-10, 9.99999523e-01],\n",
       "       [2.04687691e-04, 3.42072951e-07, 9.99795020e-01],\n",
       "       [7.67134964e-01, 7.19229807e-04, 2.32145786e-01],\n",
       "       [9.92625415e-01, 8.90780822e-04, 6.48373924e-03],\n",
       "       [8.53104591e-01, 7.40934222e-04, 1.46154433e-01],\n",
       "       [3.15878056e-02, 3.88100852e-05, 9.68373358e-01],\n",
       "       [1.39857121e-02, 2.19835965e-05, 9.85992372e-01],\n",
       "       [5.31307096e-03, 1.06269827e-05, 9.94676352e-01],\n",
       "       [1.07061374e-03, 1.55824102e-06, 9.98927772e-01]], dtype=float32)"
      ]
     },
     "execution_count": 29,
     "metadata": {},
     "output_type": "execute_result"
    }
   ],
   "source": [
    "predictions"
   ]
  },
  {
   "cell_type": "code",
   "execution_count": 30,
   "metadata": {},
   "outputs": [],
   "source": [
    "def prediction_classes(p):\n",
    "    max_value  = 0\n",
    "    maxi = 0\n",
    "    for i in range(3):\n",
    "        temp = p[i]\n",
    "        if temp>max_value:\n",
    "            max_value = temp\n",
    "            maxi = i\n",
    "    return maxi"
   ]
  },
  {
   "cell_type": "code",
   "execution_count": 31,
   "metadata": {},
   "outputs": [],
   "source": [
    "predictions = map(prediction_classes, predictions)\n",
    "\n",
    "pred = list(predictions)"
   ]
  },
  {
   "cell_type": "code",
   "execution_count": 32,
   "metadata": {},
   "outputs": [
    {
     "data": {
      "text/plain": [
       "[0,\n",
       " 0,\n",
       " 0,\n",
       " 0,\n",
       " 0,\n",
       " 0,\n",
       " 0,\n",
       " 0,\n",
       " 0,\n",
       " 0,\n",
       " 0,\n",
       " 0,\n",
       " 0,\n",
       " 0,\n",
       " 0,\n",
       " 0,\n",
       " 0,\n",
       " 0,\n",
       " 0,\n",
       " 0,\n",
       " 0,\n",
       " 0,\n",
       " 0,\n",
       " 0,\n",
       " 0,\n",
       " 0,\n",
       " 0,\n",
       " 0,\n",
       " 0,\n",
       " 0,\n",
       " 0,\n",
       " 0,\n",
       " 0,\n",
       " 0,\n",
       " 0,\n",
       " 0,\n",
       " 0,\n",
       " 0,\n",
       " 0,\n",
       " 0,\n",
       " 0,\n",
       " 0,\n",
       " 0,\n",
       " 0,\n",
       " 0,\n",
       " 0,\n",
       " 0,\n",
       " 0,\n",
       " 0,\n",
       " 0,\n",
       " 0,\n",
       " 0,\n",
       " 0,\n",
       " 0,\n",
       " 0,\n",
       " 0,\n",
       " 0,\n",
       " 0,\n",
       " 0,\n",
       " 0,\n",
       " 0,\n",
       " 0,\n",
       " 0,\n",
       " 0,\n",
       " 0,\n",
       " 0,\n",
       " 0,\n",
       " 0,\n",
       " 0,\n",
       " 0,\n",
       " 0,\n",
       " 0,\n",
       " 0,\n",
       " 0,\n",
       " 0,\n",
       " 0,\n",
       " 0,\n",
       " 0,\n",
       " 0,\n",
       " 0,\n",
       " 0,\n",
       " 0,\n",
       " 0,\n",
       " 0,\n",
       " 0,\n",
       " 0,\n",
       " 0,\n",
       " 0,\n",
       " 0,\n",
       " 0,\n",
       " 0,\n",
       " 0,\n",
       " 0,\n",
       " 0,\n",
       " 0,\n",
       " 0,\n",
       " 0,\n",
       " 0,\n",
       " 0,\n",
       " 0,\n",
       " 1,\n",
       " 1,\n",
       " 1,\n",
       " 1,\n",
       " 1,\n",
       " 1,\n",
       " 1,\n",
       " 1,\n",
       " 1,\n",
       " 1,\n",
       " 1,\n",
       " 1,\n",
       " 1,\n",
       " 1,\n",
       " 1,\n",
       " 1,\n",
       " 1,\n",
       " 1,\n",
       " 1,\n",
       " 1,\n",
       " 1,\n",
       " 1,\n",
       " 1,\n",
       " 1,\n",
       " 1,\n",
       " 1,\n",
       " 1,\n",
       " 1,\n",
       " 1,\n",
       " 1,\n",
       " 1,\n",
       " 1,\n",
       " 1,\n",
       " 1,\n",
       " 1,\n",
       " 1,\n",
       " 1,\n",
       " 1,\n",
       " 1,\n",
       " 1,\n",
       " 1,\n",
       " 1,\n",
       " 1,\n",
       " 1,\n",
       " 1,\n",
       " 1,\n",
       " 1,\n",
       " 1,\n",
       " 1,\n",
       " 1,\n",
       " 1,\n",
       " 1,\n",
       " 1,\n",
       " 1,\n",
       " 1,\n",
       " 1,\n",
       " 1,\n",
       " 1,\n",
       " 1,\n",
       " 1,\n",
       " 1,\n",
       " 1,\n",
       " 1,\n",
       " 1,\n",
       " 1,\n",
       " 1,\n",
       " 1,\n",
       " 1,\n",
       " 1,\n",
       " 1,\n",
       " 1,\n",
       " 1,\n",
       " 1,\n",
       " 1,\n",
       " 1,\n",
       " 1,\n",
       " 0,\n",
       " 1,\n",
       " 1,\n",
       " 1,\n",
       " 1,\n",
       " 1,\n",
       " 1,\n",
       " 1,\n",
       " 1,\n",
       " 1,\n",
       " 1,\n",
       " 1,\n",
       " 1,\n",
       " 1,\n",
       " 1,\n",
       " 1,\n",
       " 1,\n",
       " 1,\n",
       " 1,\n",
       " 1,\n",
       " 1,\n",
       " 1,\n",
       " 1,\n",
       " 1,\n",
       " 2,\n",
       " 2,\n",
       " 2,\n",
       " 2,\n",
       " 2,\n",
       " 2,\n",
       " 2,\n",
       " 2,\n",
       " 2,\n",
       " 2,\n",
       " 2,\n",
       " 2,\n",
       " 2,\n",
       " 2,\n",
       " 2,\n",
       " 2,\n",
       " 2,\n",
       " 2,\n",
       " 2,\n",
       " 2,\n",
       " 2,\n",
       " 2,\n",
       " 2,\n",
       " 2,\n",
       " 2,\n",
       " 2,\n",
       " 2,\n",
       " 2,\n",
       " 2,\n",
       " 2,\n",
       " 2,\n",
       " 2,\n",
       " 2,\n",
       " 2,\n",
       " 2,\n",
       " 2,\n",
       " 2,\n",
       " 2,\n",
       " 2,\n",
       " 2,\n",
       " 2,\n",
       " 2,\n",
       " 2,\n",
       " 2,\n",
       " 2,\n",
       " 2,\n",
       " 2,\n",
       " 2,\n",
       " 2,\n",
       " 2,\n",
       " 2,\n",
       " 2,\n",
       " 2,\n",
       " 2,\n",
       " 2,\n",
       " 2,\n",
       " 2,\n",
       " 2,\n",
       " 2,\n",
       " 2,\n",
       " 0,\n",
       " 0,\n",
       " 2,\n",
       " 2,\n",
       " 2,\n",
       " 2,\n",
       " 2,\n",
       " 2,\n",
       " 0,\n",
       " 0,\n",
       " 0,\n",
       " 0,\n",
       " 0,\n",
       " 0,\n",
       " 2,\n",
       " 2,\n",
       " 2,\n",
       " 2,\n",
       " 2,\n",
       " 2,\n",
       " 2,\n",
       " 2,\n",
       " 2,\n",
       " 2,\n",
       " 2,\n",
       " 2,\n",
       " 2,\n",
       " 2,\n",
       " 2,\n",
       " 2,\n",
       " 2,\n",
       " 2,\n",
       " 2,\n",
       " 0,\n",
       " 0,\n",
       " 0,\n",
       " 2,\n",
       " 2,\n",
       " 2,\n",
       " 2]"
      ]
     },
     "execution_count": 32,
     "metadata": {},
     "output_type": "execute_result"
    }
   ],
   "source": [
    "pred"
   ]
  },
  {
   "cell_type": "code",
   "execution_count": 33,
   "metadata": {},
   "outputs": [],
   "source": [
    "pred = np.array(pred)"
   ]
  },
  {
   "cell_type": "code",
   "execution_count": 34,
   "metadata": {},
   "outputs": [
    {
     "data": {
      "text/plain": [
       "array([0, 0, 0, 0, 0, 0, 0, 0, 0, 0, 0, 0, 0, 0, 0, 0, 0, 0, 0, 0, 0, 0,\n",
       "       0, 0, 0, 0, 0, 0, 0, 0, 0, 0, 0, 0, 0, 0, 0, 0, 0, 0, 0, 0, 0, 0,\n",
       "       0, 0, 0, 0, 0, 0, 0, 0, 0, 0, 0, 0, 0, 0, 0, 0, 0, 0, 0, 0, 0, 0,\n",
       "       0, 0, 0, 0, 0, 0, 0, 0, 0, 0, 0, 0, 0, 0, 0, 0, 0, 0, 0, 0, 0, 0,\n",
       "       0, 0, 0, 0, 0, 0, 0, 0, 0, 0, 0, 0, 1, 1, 1, 1, 1, 1, 1, 1, 1, 1,\n",
       "       1, 1, 1, 1, 1, 1, 1, 1, 1, 1, 1, 1, 1, 1, 1, 1, 1, 1, 1, 1, 1, 1,\n",
       "       1, 1, 1, 1, 1, 1, 1, 1, 1, 1, 1, 1, 1, 1, 1, 1, 1, 1, 1, 1, 1, 1,\n",
       "       1, 1, 1, 1, 1, 1, 1, 1, 1, 1, 1, 1, 1, 1, 1, 1, 1, 1, 1, 1, 1, 1,\n",
       "       0, 1, 1, 1, 1, 1, 1, 1, 1, 1, 1, 1, 1, 1, 1, 1, 1, 1, 1, 1, 1, 1,\n",
       "       1, 1, 2, 2, 2, 2, 2, 2, 2, 2, 2, 2, 2, 2, 2, 2, 2, 2, 2, 2, 2, 2,\n",
       "       2, 2, 2, 2, 2, 2, 2, 2, 2, 2, 2, 2, 2, 2, 2, 2, 2, 2, 2, 2, 2, 2,\n",
       "       2, 2, 2, 2, 2, 2, 2, 2, 2, 2, 2, 2, 2, 2, 2, 2, 2, 2, 0, 0, 2, 2,\n",
       "       2, 2, 2, 2, 0, 0, 0, 0, 0, 0, 2, 2, 2, 2, 2, 2, 2, 2, 2, 2, 2, 2,\n",
       "       2, 2, 2, 2, 2, 2, 2, 0, 0, 0, 2, 2, 2, 2])"
      ]
     },
     "execution_count": 34,
     "metadata": {},
     "output_type": "execute_result"
    }
   ],
   "source": [
    "pred"
   ]
  },
  {
   "cell_type": "code",
   "execution_count": 35,
   "metadata": {},
   "outputs": [
    {
     "data": {
      "text/plain": [
       "array([0, 0, 0, 0, 0, 0, 0, 0, 0, 0, 0, 0, 0, 0, 0, 0, 0, 0, 0, 0, 0, 0,\n",
       "       0, 0, 0, 0, 0, 0, 0, 0, 0, 0, 0, 0, 0, 0, 0, 0, 0, 0, 0, 0, 0, 0,\n",
       "       0, 0, 0, 0, 0, 0, 0, 0, 0, 0, 0, 0, 0, 0, 0, 0, 0, 0, 0, 0, 0, 0,\n",
       "       0, 0, 0, 0, 0, 0, 0, 0, 0, 0, 0, 0, 0, 0, 0, 0, 0, 0, 0, 0, 0, 0,\n",
       "       0, 0, 0, 0, 0, 0, 0, 0, 0, 0, 0, 0, 1, 1, 1, 1, 1, 1, 1, 1, 1, 1,\n",
       "       1, 1, 1, 1, 1, 1, 1, 1, 1, 1, 1, 1, 1, 1, 1, 1, 1, 1, 1, 1, 1, 1,\n",
       "       1, 1, 1, 1, 1, 1, 1, 1, 1, 1, 1, 1, 1, 1, 1, 1, 1, 1, 1, 1, 1, 1,\n",
       "       1, 1, 1, 1, 1, 1, 1, 1, 1, 1, 1, 1, 1, 1, 1, 1, 1, 1, 1, 1, 1, 1,\n",
       "       1, 1, 1, 1, 1, 1, 1, 1, 1, 1, 1, 1, 1, 1, 1, 1, 1, 1, 1, 1, 1, 1,\n",
       "       1, 1, 2, 2, 2, 2, 2, 2, 2, 2, 2, 2, 2, 2, 2, 2, 2, 2, 2, 2, 2, 2,\n",
       "       2, 2, 2, 2, 2, 2, 2, 2, 2, 2, 2, 2, 2, 2, 2, 2, 2, 2, 2, 2, 2, 2,\n",
       "       2, 2, 2, 2, 2, 2, 2, 2, 2, 2, 2, 2, 2, 2, 2, 2, 2, 2, 2, 2, 2, 2,\n",
       "       2, 2, 2, 2, 2, 2, 2, 2, 2, 2, 2, 2, 2, 2, 2, 2, 2, 2, 2, 2, 2, 2,\n",
       "       2, 2, 2, 2, 2, 2, 2, 2, 2, 2, 2, 2, 2, 2])"
      ]
     },
     "execution_count": 35,
     "metadata": {},
     "output_type": "execute_result"
    }
   ],
   "source": [
    "val_image_gen.classes"
   ]
  },
  {
   "cell_type": "code",
   "execution_count": 36,
   "metadata": {},
   "outputs": [],
   "source": [
    "from sklearn.metrics import classification_report,confusion_matrix"
   ]
  },
  {
   "cell_type": "code",
   "execution_count": 37,
   "metadata": {},
   "outputs": [
    {
     "name": "stdout",
     "output_type": "stream",
     "text": [
      "              precision    recall  f1-score   support\n",
      "\n",
      "           0       0.89      1.00      0.94       100\n",
      "           1       1.00      0.99      0.99       100\n",
      "           2       1.00      0.89      0.94       100\n",
      "\n",
      "    accuracy                           0.96       300\n",
      "   macro avg       0.96      0.96      0.96       300\n",
      "weighted avg       0.96      0.96      0.96       300\n",
      "\n"
     ]
    }
   ],
   "source": [
    "print(classification_report(val_image_gen.classes,pred))"
   ]
  },
  {
   "cell_type": "code",
   "execution_count": 41,
   "metadata": {},
   "outputs": [
    {
     "data": {
      "text/plain": [
       "array([[100,   0,   0],\n",
       "       [  1,  99,   0],\n",
       "       [ 11,   0,  89]], dtype=int64)"
      ]
     },
     "execution_count": 41,
     "metadata": {},
     "output_type": "execute_result"
    }
   ],
   "source": [
    "confusion_matrix_result = confusion_matrix(val_image_gen.classes,pred)\n",
    "confusion_matrix_result"
   ]
  },
  {
   "cell_type": "code",
   "execution_count": 45,
   "metadata": {},
   "outputs": [
    {
     "data": {
      "text/html": [
       "<div>\n",
       "<style scoped>\n",
       "    .dataframe tbody tr th:only-of-type {\n",
       "        vertical-align: middle;\n",
       "    }\n",
       "\n",
       "    .dataframe tbody tr th {\n",
       "        vertical-align: top;\n",
       "    }\n",
       "\n",
       "    .dataframe thead th {\n",
       "        text-align: right;\n",
       "    }\n",
       "</style>\n",
       "<table border=\"1\" class=\"dataframe\">\n",
       "  <thead>\n",
       "    <tr style=\"text-align: right;\">\n",
       "      <th></th>\n",
       "      <th>Background_class</th>\n",
       "      <th>Green_class</th>\n",
       "      <th>Orange_class</th>\n",
       "    </tr>\n",
       "  </thead>\n",
       "  <tbody>\n",
       "    <tr>\n",
       "      <th>Background_prediction</th>\n",
       "      <td>100</td>\n",
       "      <td>0</td>\n",
       "      <td>0</td>\n",
       "    </tr>\n",
       "    <tr>\n",
       "      <th>Green_prediction</th>\n",
       "      <td>1</td>\n",
       "      <td>99</td>\n",
       "      <td>0</td>\n",
       "    </tr>\n",
       "    <tr>\n",
       "      <th>Orange_prediction</th>\n",
       "      <td>11</td>\n",
       "      <td>0</td>\n",
       "      <td>89</td>\n",
       "    </tr>\n",
       "  </tbody>\n",
       "</table>\n",
       "</div>"
      ],
      "text/plain": [
       "                       Background_class  Green_class  Orange_class\n",
       "Background_prediction               100            0             0\n",
       "Green_prediction                      1           99             0\n",
       "Orange_prediction                    11            0            89"
      ]
     },
     "execution_count": 45,
     "metadata": {},
     "output_type": "execute_result"
    }
   ],
   "source": [
    "confusion_matrix_result_pf = pd.DataFrame(confusion_matrix_result, columns = ['Background_class', 'Green_class', 'Orange_class'], index = ['Background_prediction', 'Green_prediction', 'Orange_prediction'])\n",
    "confusion_matrix_result_pf"
   ]
  },
  {
   "cell_type": "markdown",
   "metadata": {},
   "source": [
    "# Evaluating the model with test images"
   ]
  },
  {
   "cell_type": "code",
   "execution_count": 46,
   "metadata": {},
   "outputs": [],
   "source": [
    "from tensorflow.keras.preprocessing import image"
   ]
  },
  {
   "cell_type": "code",
   "execution_count": 47,
   "metadata": {},
   "outputs": [
    {
     "name": "stdout",
     "output_type": "stream",
     "text": [
      "No. of Background test samples:  100\n",
      "No. of green test samples:  100\n",
      "No. of orange test samples:  100\n"
     ]
    }
   ],
   "source": [
    "#The images used for validation is used here but the images are not augmented now\n",
    "predictions = []\n",
    "Background_test_samples_len = len(os.listdir(directory+ \"\\\\test\"+ \"\\\\Background_test_samples\"))\n",
    "print(\"No. of Background test samples: \",Background_test_samples_len)\n",
    "green_test_samples_len = len(os.listdir(directory+ \"\\\\test\"+ \"\\\\Green_test_samples\"))\n",
    "print(\"No. of green test samples: \",green_test_samples_len)\n",
    "orange_test_samples_len = len(os.listdir(directory+ \"\\\\test\"+ \"\\\\Orange_test_samples\"))\n",
    "print(\"No. of orange test samples: \",orange_test_samples_len)"
   ]
  },
  {
   "cell_type": "code",
   "execution_count": null,
   "metadata": {},
   "outputs": [],
   "source": []
  },
  {
   "cell_type": "code",
   "execution_count": 48,
   "metadata": {},
   "outputs": [],
   "source": [
    "# Predicting background class\n",
    "for i in range(Background_test_samples_len):\n",
    "    prediction_image = directory+ \"\\\\test\"+ \"\\\\Background_test_samples\"+\"\\\\\"+str(i+1)+\".jpg\"\n",
    "    prediction_image = image.load_img(prediction_image,target_size=(224,224,3))\n",
    "    prediction_image = image.img_to_array(prediction_image)\n",
    "    prediction_image = np.expand_dims(prediction_image,axis=0)\n",
    "    prediction = model.predict_classes(prediction_image)\n",
    "    predictions.append(prediction.item())"
   ]
  },
  {
   "cell_type": "code",
   "execution_count": 49,
   "metadata": {},
   "outputs": [],
   "source": [
    "#predictions"
   ]
  },
  {
   "cell_type": "code",
   "execution_count": null,
   "metadata": {},
   "outputs": [],
   "source": []
  },
  {
   "cell_type": "code",
   "execution_count": 50,
   "metadata": {},
   "outputs": [],
   "source": [
    "# Predicting green samples\n",
    "for i in range(green_test_samples_len):\n",
    "    prediction_image = directory+ \"\\\\test\"+ \"\\\\Green_test_samples\"+\"\\\\\"+str(i+1)+\".jpg\"\n",
    "    prediction_image = image.load_img(prediction_image,target_size=(224,224,3))\n",
    "    prediction_image = image.img_to_array(prediction_image)\n",
    "    prediction_image = np.expand_dims(prediction_image,axis=0)\n",
    "    prediction = model.predict_classes(prediction_image)\n",
    "    predictions.append(prediction.item())"
   ]
  },
  {
   "cell_type": "code",
   "execution_count": 51,
   "metadata": {},
   "outputs": [],
   "source": [
    "#predictions"
   ]
  },
  {
   "cell_type": "code",
   "execution_count": null,
   "metadata": {},
   "outputs": [],
   "source": []
  },
  {
   "cell_type": "code",
   "execution_count": 52,
   "metadata": {},
   "outputs": [],
   "source": [
    "# Predicting orange samples\n",
    "for i in range(orange_test_samples_len):\n",
    "    prediction_image = directory+ \"\\\\test\"+ \"\\\\Orange_test_samples\"+\"\\\\\"+str(i+1)+\".jpg\"\n",
    "    prediction_image = image.load_img(prediction_image,target_size=(224,224,3))\n",
    "    prediction_image = image.img_to_array(prediction_image)\n",
    "    prediction_image = np.expand_dims(prediction_image,axis=0)\n",
    "    prediction = model.predict_classes(prediction_image)\n",
    "    predictions.append(prediction.item())"
   ]
  },
  {
   "cell_type": "code",
   "execution_count": 53,
   "metadata": {},
   "outputs": [
    {
     "data": {
      "text/plain": [
       "array([0, 0, 0, 0, 0, 0, 0, 0, 0, 0, 0, 0, 0, 0, 0, 0, 0, 0, 0, 0, 0, 0,\n",
       "       0, 0, 0, 0, 0, 0, 0, 0, 0, 0, 0, 0, 0, 0, 0, 0, 0, 0, 0, 0, 0, 0,\n",
       "       0, 0, 0, 0, 0, 0, 0, 0, 0, 0, 0, 0, 0, 0, 0, 0, 0, 0, 0, 0, 0, 0,\n",
       "       0, 0, 0, 0, 0, 0, 0, 0, 0, 0, 0, 0, 0, 0, 0, 0, 0, 0, 0, 0, 0, 0,\n",
       "       0, 0, 0, 0, 0, 0, 0, 0, 0, 0, 0, 0, 1, 1, 1, 1, 1, 1, 1, 1, 1, 1,\n",
       "       1, 1, 1, 1, 1, 1, 1, 1, 1, 1, 1, 1, 1, 1, 1, 1, 1, 1, 1, 1, 1, 1,\n",
       "       1, 1, 1, 1, 1, 1, 1, 1, 1, 1, 1, 1, 1, 1, 1, 1, 1, 1, 1, 1, 1, 1,\n",
       "       1, 1, 1, 1, 1, 1, 1, 1, 1, 1, 1, 1, 1, 1, 1, 1, 1, 1, 1, 1, 1, 1,\n",
       "       1, 0, 1, 1, 1, 1, 1, 1, 1, 1, 1, 1, 1, 1, 1, 1, 1, 1, 1, 1, 1, 1,\n",
       "       1, 1, 2, 2, 2, 2, 2, 2, 2, 2, 2, 2, 2, 2, 2, 2, 2, 2, 2, 2, 2, 2,\n",
       "       2, 2, 2, 2, 2, 2, 2, 2, 2, 2, 2, 2, 2, 2, 2, 2, 2, 2, 2, 2, 2, 2,\n",
       "       2, 2, 2, 2, 2, 2, 2, 2, 2, 2, 2, 2, 2, 2, 2, 2, 2, 2, 2, 2, 1, 1,\n",
       "       2, 2, 2, 2, 2, 2, 2, 2, 2, 2, 2, 2, 2, 2, 2, 2, 2, 2, 2, 2, 2, 2,\n",
       "       2, 2, 2, 2, 2, 2, 2, 2, 2, 2, 2, 2, 2, 2])"
      ]
     },
     "execution_count": 53,
     "metadata": {},
     "output_type": "execute_result"
    }
   ],
   "source": [
    "# predictions of all classes combined\n",
    "predictions = np.array(predictions)\n",
    "predictions"
   ]
  },
  {
   "cell_type": "code",
   "execution_count": 54,
   "metadata": {},
   "outputs": [
    {
     "data": {
      "text/plain": [
       "array([[100,   0,   0],\n",
       "       [  1,  99,   0],\n",
       "       [  0,   2,  98]], dtype=int64)"
      ]
     },
     "execution_count": 54,
     "metadata": {},
     "output_type": "execute_result"
    }
   ],
   "source": [
    "confusion_matrix_result = confusion_matrix(val_image_gen.classes,predictions)\n",
    "confusion_matrix_result"
   ]
  },
  {
   "cell_type": "code",
   "execution_count": 55,
   "metadata": {},
   "outputs": [
    {
     "data": {
      "text/html": [
       "<div>\n",
       "<style scoped>\n",
       "    .dataframe tbody tr th:only-of-type {\n",
       "        vertical-align: middle;\n",
       "    }\n",
       "\n",
       "    .dataframe tbody tr th {\n",
       "        vertical-align: top;\n",
       "    }\n",
       "\n",
       "    .dataframe thead th {\n",
       "        text-align: right;\n",
       "    }\n",
       "</style>\n",
       "<table border=\"1\" class=\"dataframe\">\n",
       "  <thead>\n",
       "    <tr style=\"text-align: right;\">\n",
       "      <th></th>\n",
       "      <th>Background_class</th>\n",
       "      <th>Green_class</th>\n",
       "      <th>Orange_class</th>\n",
       "    </tr>\n",
       "  </thead>\n",
       "  <tbody>\n",
       "    <tr>\n",
       "      <th>Background_prediction</th>\n",
       "      <td>100</td>\n",
       "      <td>0</td>\n",
       "      <td>0</td>\n",
       "    </tr>\n",
       "    <tr>\n",
       "      <th>Green_prediction</th>\n",
       "      <td>1</td>\n",
       "      <td>99</td>\n",
       "      <td>0</td>\n",
       "    </tr>\n",
       "    <tr>\n",
       "      <th>Orange_prediction</th>\n",
       "      <td>0</td>\n",
       "      <td>2</td>\n",
       "      <td>98</td>\n",
       "    </tr>\n",
       "  </tbody>\n",
       "</table>\n",
       "</div>"
      ],
      "text/plain": [
       "                       Background_class  Green_class  Orange_class\n",
       "Background_prediction               100            0             0\n",
       "Green_prediction                      1           99             0\n",
       "Orange_prediction                     0            2            98"
      ]
     },
     "execution_count": 55,
     "metadata": {},
     "output_type": "execute_result"
    }
   ],
   "source": [
    "confusion_matrix_result_pf = pd.DataFrame(confusion_matrix_result, columns = ['Background_class', 'Green_class', 'Orange_class'], index = ['Background_prediction', 'Green_prediction', 'Orange_prediction'])\n",
    "confusion_matrix_result_pf"
   ]
  },
  {
   "cell_type": "markdown",
   "metadata": {},
   "source": [
    "# Testing the model with random test images"
   ]
  },
  {
   "cell_type": "code",
   "execution_count": 273,
   "metadata": {},
   "outputs": [],
   "source": [
    "green_image_sample = directory+ \"\\\\test\"+ \"\\\\Background_test_samples\"+\"\\\\2.jpg\""
   ]
  },
  {
   "cell_type": "code",
   "execution_count": 274,
   "metadata": {},
   "outputs": [],
   "source": [
    "my_image = image.load_img(green_image_sample,target_size=(224,224,3))"
   ]
  },
  {
   "cell_type": "code",
   "execution_count": 275,
   "metadata": {},
   "outputs": [
    {
     "data": {
      "image/png": "[encoded data removed]",
      "text/plain": [
       "<PIL.JpegImagePlugin.JpegImageFile image mode=RGB size=224x224 at 0x26417905A08>"
      ]
     },
     "execution_count": 275,
     "metadata": {},
     "output_type": "execute_result"
    }
   ],
   "source": [
    "my_image"
   ]
  },
  {
   "cell_type": "code",
   "execution_count": 276,
   "metadata": {},
   "outputs": [
    {
     "data": {
      "text/plain": [
       "PIL.JpegImagePlugin.JpegImageFile"
      ]
     },
     "execution_count": 276,
     "metadata": {},
     "output_type": "execute_result"
    }
   ],
   "source": [
    "type(my_image)"
   ]
  },
  {
   "cell_type": "code",
   "execution_count": 277,
   "metadata": {},
   "outputs": [],
   "source": [
    "my_image = image.img_to_array(my_image)"
   ]
  },
  {
   "cell_type": "code",
   "execution_count": 278,
   "metadata": {},
   "outputs": [
    {
     "data": {
      "text/plain": [
       "numpy.ndarray"
      ]
     },
     "execution_count": 278,
     "metadata": {},
     "output_type": "execute_result"
    }
   ],
   "source": [
    "type(my_image)"
   ]
  },
  {
   "cell_type": "code",
   "execution_count": 279,
   "metadata": {},
   "outputs": [],
   "source": [
    "my_image = np.expand_dims(my_image,axis=0)"
   ]
  },
  {
   "cell_type": "code",
   "execution_count": 280,
   "metadata": {},
   "outputs": [
    {
     "data": {
      "text/plain": [
       "(1, 224, 224, 3)"
      ]
     },
     "execution_count": 280,
     "metadata": {},
     "output_type": "execute_result"
    }
   ],
   "source": [
    "my_image.shape"
   ]
  },
  {
   "cell_type": "code",
   "execution_count": 281,
   "metadata": {},
   "outputs": [
    {
     "data": {
      "text/plain": [
       "array([0], dtype=int64)"
      ]
     },
     "execution_count": 281,
     "metadata": {},
     "output_type": "execute_result"
    }
   ],
   "source": [
    "model.predict_classes(my_image)"
   ]
  },
  {
   "cell_type": "code",
   "execution_count": null,
   "metadata": {},
   "outputs": [],
   "source": []
  },
  {
   "cell_type": "code",
   "execution_count": null,
   "metadata": {},
   "outputs": [],
   "source": []
  },
  {
   "cell_type": "code",
   "execution_count": 282,
   "metadata": {},
   "outputs": [],
   "source": [
    "test_image = directory+ \"\\\\test\"+ \"\\\\Orange_test_samples\"+\"\\\\79.jpg\""
   ]
  },
  {
   "cell_type": "code",
   "execution_count": 283,
   "metadata": {},
   "outputs": [],
   "source": [
    "test_image = image.load_img(test_image, target_size=(224,224,3))"
   ]
  },
  {
   "cell_type": "code",
   "execution_count": 284,
   "metadata": {},
   "outputs": [
    {
     "data": {
      "image/png": "[encoded data removed]",
      "text/plain": [
       "<PIL.JpegImagePlugin.JpegImageFile image mode=RGB size=224x224 at 0x2640745E308>"
      ]
     },
     "execution_count": 284,
     "metadata": {},
     "output_type": "execute_result"
    }
   ],
   "source": [
    "test_image"
   ]
  },
  {
   "cell_type": "code",
   "execution_count": 285,
   "metadata": {},
   "outputs": [],
   "source": [
    "test_image = image.img_to_array(test_image)"
   ]
  },
  {
   "cell_type": "code",
   "execution_count": 286,
   "metadata": {},
   "outputs": [],
   "source": [
    "test_image = np.expand_dims(test_image,axis=0)"
   ]
  },
  {
   "cell_type": "code",
   "execution_count": 287,
   "metadata": {},
   "outputs": [
    {
     "data": {
      "text/plain": [
       "array([2], dtype=int64)"
      ]
     },
     "execution_count": 287,
     "metadata": {},
     "output_type": "execute_result"
    }
   ],
   "source": [
    "model.predict_classes(test_image)"
   ]
  },
  {
   "cell_type": "code",
   "execution_count": null,
   "metadata": {},
   "outputs": [],
   "source": []
  },
  {
   "cell_type": "code",
   "execution_count": null,
   "metadata": {},
   "outputs": [],
   "source": []
  },
  {
   "cell_type": "code",
   "execution_count": 288,
   "metadata": {},
   "outputs": [],
   "source": [
    "test_image = directory+ \"\\\\test\"+ \"\\\\Green_test_samples\"+\"\\\\29.jpg\""
   ]
  },
  {
   "cell_type": "code",
   "execution_count": 289,
   "metadata": {},
   "outputs": [],
   "source": [
    "test_image = image.load_img(test_image, target_size=(224,224,3))"
   ]
  },
  {
   "cell_type": "code",
   "execution_count": 290,
   "metadata": {},
   "outputs": [
    {
     "data": {
      "image/png": "[encoded data removed]",
      "text/plain": [
       "<PIL.JpegImagePlugin.JpegImageFile image mode=RGB size=224x224 at 0x2640769B7C8>"
      ]
     },
     "execution_count": 290,
     "metadata": {},
     "output_type": "execute_result"
    }
   ],
   "source": [
    "test_image"
   ]
  },
  {
   "cell_type": "code",
   "execution_count": 291,
   "metadata": {},
   "outputs": [],
   "source": [
    "test_image = image.img_to_array(test_image)"
   ]
  },
  {
   "cell_type": "code",
   "execution_count": 292,
   "metadata": {},
   "outputs": [],
   "source": [
    "test_image = np.expand_dims(test_image,axis=0)"
   ]
  },
  {
   "cell_type": "code",
   "execution_count": 293,
   "metadata": {},
   "outputs": [
    {
     "data": {
      "text/plain": [
       "array([1], dtype=int64)"
      ]
     },
     "execution_count": 293,
     "metadata": {},
     "output_type": "execute_result"
    }
   ],
   "source": [
    "model.predict_classes(test_image)"
   ]
  },
  {
   "cell_type": "code",
   "execution_count": null,
   "metadata": {},
   "outputs": [],
   "source": []
  }
 ],
 "metadata": {
  "kernelspec": {
   "display_name": "Python 3 (ipykernel)",
   "language": "python",
   "name": "python3"
  },
  "language_info": {
   "codemirror_mode": {
    "name": "ipython",
    "version": 3
   },
   "file_extension": ".py",
   "mimetype": "text/x-python",
   "name": "python",
   "nbconvert_exporter": "python",
   "pygments_lexer": "ipython3",
   "version": "3.7.4"
  }
 },
 "nbformat": 4,
 "nbformat_minor": 4
}
